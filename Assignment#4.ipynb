{
 "cells": [
  {
   "cell_type": "code",
   "execution_count": 10,
   "metadata": {},
   "outputs": [
    {
     "name": "stdout",
     "output_type": "stream",
     "text": [
      "{'first_name': 'Ali', 'last_name': 'Ilyas', 'age': 23, 'city': 'karachi'}\n"
     ]
    }
   ],
   "source": [
    "#Question1:\n",
    "Bio_graphy = {\n",
    "    \"first_name\" :\"Ali\",\n",
    "    \"last_name\": \"Ilyas\",\n",
    "    \"age\" : 23,\n",
    "    \"city\" :\"karachi\",\n",
    "}\n",
    "Bio_graphy[\"qualification\"] =\"BSC in Mathemathics\"\n",
    "Bio_graphy[\"qualification\"] =\"MCS\"\n",
    "del Bio_graphy[\"qualification\"] \n",
    "print(Bio_graphy)"
   ]
  },
  {
   "cell_type": "code",
   "execution_count": 16,
   "metadata": {},
   "outputs": [
    {
     "name": "stdout",
     "output_type": "stream",
     "text": [
      "{'karachi': {'country': 'Pakistan', 'population': 216565318, 'fact': 'City of light'}, 'Berlin': {'country': 'Jermany', 'population': '3.748millions', 'fact': 'Capital of Jermany'}, 'Toronto': {'country': 'Canada', 'population': '5.6 million', 'fact': 'largest city with a population '}}\n"
     ]
    }
   ],
   "source": [
    "#Question2:\n",
    "Cities = {\n",
    "    \"karachi\":{\n",
    "        \"country\" : \"Pakistan\",\n",
    "        \"population\" : 216565318,\n",
    "        \"fact\" : \"City of light\"    \n",
    "    },\n",
    "     \"Berlin\":{\n",
    "         \"country\" : \"Jermany\",\n",
    "        \"population\" : \"3.748millions\",\n",
    "        \"fact\" : \"Capital of Jermany\"\n",
    "     },\n",
    "      \"Toronto\": {\n",
    "          \"country\" : \"Canada\",\n",
    "        \"population\" : \"5.6 million\",\n",
    "        \"fact\" : \"largest city with a population \"\n",
    "      },\n",
    "}\n",
    "print(Cities)"
   ]
  },
  {
   "cell_type": "code",
   "execution_count": null,
   "metadata": {},
   "outputs": [],
   "source": [
    "#Question3:\n",
    "age =int(input(\"Enter your age\"))\n",
    "if age<3:\n",
    "  print(\"The ticket is free\")\n",
    "elif age>3 and age<12:\n",
    "  print(\"The ticket is $10\")\n",
    "else:\n",
    "  print(\"The ticket is $15\")"
   ]
  },
  {
   "cell_type": "code",
   "execution_count": 1,
   "metadata": {},
   "outputs": [
    {
     "name": "stdout",
     "output_type": "stream",
     "text": [
      "Enter an integer from 1 to 30: 12\n",
      "guess is low\n",
      "Enter an integer from 1 to 30: 33\n",
      "guess is high\n",
      "Enter an integer from 1 to 30: 30\n",
      "guess is high\n",
      "Enter an integer from 1 to 30: 22\n",
      "guess is high\n",
      "Enter an integer from 1 to 30: 20\n",
      "guess is high\n",
      "Enter an integer from 1 to 30: 17\n",
      "you guessed it!\n"
     ]
    }
   ],
   "source": [
    "#Question4:\n",
    "import random\n",
    "n = random.randint(1, 30)\n",
    "guess = int(input(\"Enter an integer from 1 to 30: \"))\n",
    "while n != \"guess\":\n",
    "    print\n",
    "    if guess < n:\n",
    "        print (\"guess is low\")\n",
    "        guess = int(input(\"Enter an integer from 1 to 30: \"))\n",
    "    elif guess > n:\n",
    "        print (\"guess is high\")\n",
    "        guess = int(input(\"Enter an integer from 1 to 30: \"))\n",
    "    else:\n",
    "        print (\"you guessed it!\")\n",
    "        break\n",
    "    print"
   ]
  },
  {
   "cell_type": "markdown",
   "metadata": {},
   "source": []
  },
  {
   "cell_type": "markdown",
   "metadata": {},
   "source": []
  },
  {
   "cell_type": "markdown",
   "metadata": {},
   "source": []
  },
  {
   "cell_type": "code",
   "execution_count": null,
   "metadata": {},
   "outputs": [],
   "source": [
    "#Question5:\n",
    "def favorite_book(title):\n",
    "    print(title + \" is one of my favorite books.\")\n",
    "\n",
    "favorite_book('The Abstract Wild')"
   ]
  },
  {
   "cell_type": "code",
   "execution_count": null,
   "metadata": {},
   "outputs": [],
   "source": []
  }
 ],
 "metadata": {
  "kernelspec": {
   "display_name": "Python 3",
   "language": "python",
   "name": "python3"
  },
  "language_info": {
   "codemirror_mode": {
    "name": "ipython",
    "version": 3
   },
   "file_extension": ".py",
   "mimetype": "text/x-python",
   "name": "python",
   "nbconvert_exporter": "python",
   "pygments_lexer": "ipython3",
   "version": "3.7.4"
  }
 },
 "nbformat": 4,
 "nbformat_minor": 2
}
